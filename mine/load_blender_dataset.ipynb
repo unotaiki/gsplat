{
 "cells": [
  {
   "cell_type": "code",
   "execution_count": 2,
   "metadata": {},
   "outputs": [
    {
     "name": "stdout",
     "output_type": "stream",
     "text": [
      "The autoreload extension is already loaded. To reload it, use:\n",
      "  %reload_ext autoreload\n"
     ]
    }
   ],
   "source": [
    "import os\n",
    "import torch\n",
    "import numpy as np\n",
    "from plyfile import PlyData\n",
    "from gsplat import rasterization\n",
    "import matplotlib.pyplot as plt\n",
    "\n",
    "%matplotlib inline\n",
    "plt.rcParams['figure.figsize'] = (15.0, 12.0) # set default size of plots\n",
    "plt.rcParams['image.interpolation'] = 'nearest'\n",
    "plt.rcParams['image.cmap'] = 'gray'\n",
    "\n",
    "# for auto-reloading extenrnal modules\n",
    "%load_ext autoreload\n",
    "%autoreload 2"
   ]
  },
  {
   "cell_type": "code",
   "execution_count": 3,
   "metadata": {},
   "outputs": [
    {
     "name": "stdout",
     "output_type": "stream",
     "text": [
      "Reading Training Transforms...\n"
     ]
    }
   ],
   "source": [
    "from mine.read_transformers import GaussianSplattingDataset\n",
    "\n",
    "import sys\n",
    "sys.path.append('..')  # Adjust the path as necessary to locate the 'mine' module\n",
    "from mine.read_transformers import readNerfSyntheticCameras, fov2focal\n",
    "\n",
    "nerf_dataset_path = os.path.abspath(os.path.join(\"..\", \"data\", \"transformers\"))\n",
    "dataset = GaussianSplattingDataset(root_dir=nerf_dataset_path, split='train', patch_size=None)"
   ]
  },
  {
   "cell_type": "code",
   "execution_count": 4,
   "metadata": {},
   "outputs": [
    {
     "name": "stdout",
     "output_type": "stream",
     "text": [
      "torch.Size([1600, 1600, 3]) tensor([[2.2222e+03, 0.0000e+00, 8.0000e+02],\n",
      "        [0.0000e+00, 2.2222e+03, 8.0000e+02],\n",
      "        [0.0000e+00, 0.0000e+00, 1.0000e+00]]) tensor([[  1.0000,  -0.0000,  -0.0000,  16.8050],\n",
      "        [  0.0000,  -1.0000,  -0.0000, -16.8050],\n",
      "        [  0.0000,  -0.0000,  -1.0000,  20.0000],\n",
      "        [  0.0000,   0.0000,   0.0000,   1.0000]])\n"
     ]
    }
   ],
   "source": [
    "data_item = dataset[0]\n",
    "print(data_item[\"image\"].shape, data_item[\"K\"], data_item[\"camtoworld\"])"
   ]
  },
  {
   "cell_type": "code",
   "execution_count": 20,
   "metadata": {},
   "outputs": [
    {
     "name": "stdout",
     "output_type": "stream",
     "text": [
      "torch.Size([1600, 1600, 3])\n"
     ]
    },
    {
     "data": {
      "text/plain": [
       "torch.Size([400, 400, 3])"
      ]
     },
     "execution_count": 20,
     "metadata": {},
     "output_type": "execute_result"
    }
   ],
   "source": [
    "image = dataset[0][\"image\"]\n",
    "print(image.shape)\n",
    "\n",
    "image[0::4, 2::4, :].shape"
   ]
  }
 ],
 "metadata": {
  "kernelspec": {
   "display_name": "venv",
   "language": "python",
   "name": "python3"
  },
  "language_info": {
   "codemirror_mode": {
    "name": "ipython",
    "version": 3
   },
   "file_extension": ".py",
   "mimetype": "text/x-python",
   "name": "python",
   "nbconvert_exporter": "python",
   "pygments_lexer": "ipython3",
   "version": "3.10.12"
  }
 },
 "nbformat": 4,
 "nbformat_minor": 2
}
