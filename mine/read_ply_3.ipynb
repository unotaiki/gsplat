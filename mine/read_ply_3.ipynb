{
 "cells": [
  {
   "cell_type": "markdown",
   "metadata": {},
   "source": [
    "https://github.com/nerfstudio-project/gsplat/issues/234"
   ]
  },
  {
   "cell_type": "code",
   "execution_count": 1,
   "metadata": {},
   "outputs": [],
   "source": [
    "import os\n",
    "import torch\n",
    "import numpy as np\n",
    "from plyfile import PlyData\n",
    "from gsplat import rasterization\n",
    "import matplotlib.pyplot as plt\n",
    "\n",
    "%matplotlib inline\n",
    "plt.rcParams['figure.figsize'] = (15.0, 12.0) # set default size of plots\n",
    "plt.rcParams['image.interpolation'] = 'nearest'\n",
    "plt.rcParams['image.cmap'] = 'gray'\n",
    "\n",
    "# for auto-reloading extenrnal modules\n",
    "%load_ext autoreload\n",
    "%autoreload 2"
   ]
  },
  {
   "cell_type": "code",
   "execution_count": 4,
   "metadata": {},
   "outputs": [],
   "source": [
    "# path of ply file\n",
    "file_path = os.path.abspath(os.path.join(\"..\", \"data\", \"point_cloud.ply\"))"
   ]
  },
  {
   "cell_type": "code",
   "execution_count": null,
   "metadata": {},
   "outputs": [
    {
     "data": {
      "text/plain": [
       "PlyElement('vertex', (PlyProperty('x', 'float'), PlyProperty('y', 'float'), PlyProperty('z', 'float'), PlyProperty('nx', 'float'), PlyProperty('ny', 'float'), PlyProperty('nz', 'float'), PlyProperty('f_dc_0', 'float'), PlyProperty('f_dc_1', 'float'), PlyProperty('f_dc_2', 'float'), PlyProperty('f_rest_0', 'float'), PlyProperty('f_rest_1', 'float'), PlyProperty('f_rest_2', 'float'), PlyProperty('f_rest_3', 'float'), PlyProperty('f_rest_4', 'float'), PlyProperty('f_rest_5', 'float'), PlyProperty('f_rest_6', 'float'), PlyProperty('f_rest_7', 'float'), PlyProperty('f_rest_8', 'float'), PlyProperty('f_rest_9', 'float'), PlyProperty('f_rest_10', 'float'), PlyProperty('f_rest_11', 'float'), PlyProperty('f_rest_12', 'float'), PlyProperty('f_rest_13', 'float'), PlyProperty('f_rest_14', 'float'), PlyProperty('f_rest_15', 'float'), PlyProperty('f_rest_16', 'float'), PlyProperty('f_rest_17', 'float'), PlyProperty('f_rest_18', 'float'), PlyProperty('f_rest_19', 'float'), PlyProperty('f_rest_20', 'float'), PlyProperty('f_rest_21', 'float'), PlyProperty('f_rest_22', 'float'), PlyProperty('f_rest_23', 'float'), PlyProperty('f_rest_24', 'float'), PlyProperty('f_rest_25', 'float'), PlyProperty('f_rest_26', 'float'), PlyProperty('f_rest_27', 'float'), PlyProperty('f_rest_28', 'float'), PlyProperty('f_rest_29', 'float'), PlyProperty('f_rest_30', 'float'), PlyProperty('f_rest_31', 'float'), PlyProperty('f_rest_32', 'float'), PlyProperty('f_rest_33', 'float'), PlyProperty('f_rest_34', 'float'), PlyProperty('f_rest_35', 'float'), PlyProperty('f_rest_36', 'float'), PlyProperty('f_rest_37', 'float'), PlyProperty('f_rest_38', 'float'), PlyProperty('f_rest_39', 'float'), PlyProperty('f_rest_40', 'float'), PlyProperty('f_rest_41', 'float'), PlyProperty('f_rest_42', 'float'), PlyProperty('f_rest_43', 'float'), PlyProperty('f_rest_44', 'float'), PlyProperty('opacity', 'float'), PlyProperty('scale_0', 'float'), PlyProperty('scale_1', 'float'), PlyProperty('scale_2', 'float'), PlyProperty('rot_0', 'float'), PlyProperty('rot_1', 'float'), PlyProperty('rot_2', 'float'), PlyProperty('rot_3', 'float')), count=899421, comments=[])"
      ]
     },
     "execution_count": 9,
     "metadata": {},
     "output_type": "execute_result"
    }
   ],
   "source": [
    "# Read ply file\n",
    "gs_ply_data = PlyData.read(file_path)\n",
    "# each vertex represents as gaussian\n",
    "vertices = gs_ply_data['vertex']\n",
    "vertices\n"
   ]
  },
  {
   "cell_type": "code",
   "execution_count": 18,
   "metadata": {},
   "outputs": [
    {
     "data": {
      "text/plain": [
       "(899421, 3)"
      ]
     },
     "execution_count": 18,
     "metadata": {},
     "output_type": "execute_result"
    }
   ],
   "source": [
    " # Extract positions: [N, 3]\n",
    "means = np.vstack([vertices['x'], vertices['y'], vertices['z']]).T # each element : (num_points,)\n",
    "means.shape"
   ]
  },
  {
   "cell_type": "code",
   "execution_count": 19,
   "metadata": {},
   "outputs": [],
   "source": [
    "# Extract scales: [N, 3]\n",
    "scales = np.vstack([vertices['scale_0'], vertices['scale_1'], vertices['scale_2']]).T\n",
    "\n",
    "# Extract quaternions: [N, 4]\n",
    "quats = np.vstack([vertices['rot_0'], vertices['rot_1'], vertices['rot_2'], vertices['rot_3']]).T\n",
    "\n",
    "# Extract opacities: [N]\n",
    "opacities = np.array(vertices['opacity'])"
   ]
  },
  {
   "cell_type": "code",
   "execution_count": 47,
   "metadata": {},
   "outputs": [
    {
     "data": {
      "text/plain": [
       "array([[0.99607843, 0.99607843, 0.99607843],\n",
       "       [0.99607843, 0.99607843, 0.99607843],\n",
       "       [0.99607843, 0.99607843, 0.99607843],\n",
       "       ...,\n",
       "       [0.467053  , 0.481423  , 0.5018796 ],\n",
       "       [0.6369153 , 0.633901  , 0.5679625 ],\n",
       "       [0.1644992 , 0.19291401, 0.20597103]], dtype=float32)"
      ]
     },
     "execution_count": 47,
     "metadata": {},
     "output_type": "execute_result"
    }
   ],
   "source": [
    "# --- Reconstruct SH coefficients ---\n",
    "# Extract f_dc_0, f_dc_1, f_dc_2 → 3 values per vertex.\n",
    "sh0_list = []\n",
    "for i in range(3):\n",
    "    prop_name = f'f_dc_{i}'\n",
    "    if prop_name not in vertices.data.dtype.names:\n",
    "        raise KeyError(f\"Property {prop_name} not found in PLY file.\")\n",
    "    sh0_list.append(np.array(vertices[prop_name]))\n",
    "sh0 = np.array(sh0_list).T\n",
    "# convert sh0 range to [0, 1]\n",
    "sh0 = 0.2820947917738781 * sh0 + 0.5\n",
    "sh0"
   ]
  },
  {
   "cell_type": "code",
   "execution_count": 42,
   "metadata": {},
   "outputs": [
    {
     "data": {
      "text/plain": [
       "(899421, 45)"
      ]
     },
     "execution_count": 42,
     "metadata": {},
     "output_type": "execute_result"
    }
   ],
   "source": [
    "# Extract f_rest_0 ... f_rest_44 → 45 values per vertex.\n",
    "shN_list = []\n",
    "for i in range(45):\n",
    "    prop_name = f'f_rest_{i}'\n",
    "    if prop_name not in vertices.data.dtype.names:\n",
    "        raise KeyError(f\"Property {prop_name} not found in PLY file.\")\n",
    "    shN_list.append(np.array(vertices[prop_name]))\n",
    "shN = np.stack(shN_list, axis=1)\n",
    "shN.shape"
   ]
  },
  {
   "cell_type": "code",
   "execution_count": 45,
   "metadata": {},
   "outputs": [
    {
     "data": {
      "text/plain": [
       "(899421, 16, 3)"
      ]
     },
     "execution_count": 45,
     "metadata": {},
     "output_type": "execute_result"
    }
   ],
   "source": [
    "# Concatenate the two groups: total channels = 3 + 45 = 48.\n",
    "sh= np.concatenate([sh0, shN], axis=1)\n",
    "\n",
    "# Reshape to [N, K, 3] where K = 48 / 3 = 16.\n",
    "N = sh.shape[0]\n",
    "total_channels = sh.shape[1]\n",
    "if total_channels % 3 != 0:\n",
    "    raise ValueError(\"Total number of SH channels is not a multiple of 3.\")\n",
    "K = total_channels // 3  # Should be 16.\n",
    "colors = sh.reshape(N, K, 3)  # Shape: [N, 16, 3]\n",
    "colors.shape"
   ]
  },
  {
   "cell_type": "code",
   "execution_count": 50,
   "metadata": {},
   "outputs": [
    {
     "name": "stdout",
     "output_type": "stream",
     "text": [
      "means: torch.Size([899421, 3])\n",
      "scales: torch.Size([899421, 3])\n",
      "quats: torch.Size([899421, 4])\n",
      "opacities: torch.Size([899421])\n",
      "colors: torch.Size([899421, 16, 3])\n"
     ]
    }
   ],
   "source": [
    "# Convert all arrays to torch tensors.\n",
    "splats = {\n",
    "    \"means\":     torch.from_numpy(means).float(),      # [N, 3]\n",
    "    \"scales\":    torch.from_numpy(scales).float(),     # [N, 3]\n",
    "    \"quats\":     torch.from_numpy(quats).float(),      # [N, 4]\n",
    "    \"opacities\": torch.from_numpy(opacities).float(),    # [N]\n",
    "    \"colors\":    torch.from_numpy(colors).float(),      # [N, 16, 3]\n",
    "}\n",
    "\n",
    "# print all\n",
    "for key, value in splats.items():\n",
    "    print(f\"{key}: {value.shape}\")"
   ]
  },
  {
   "cell_type": "code",
   "execution_count": null,
   "metadata": {},
   "outputs": [
    {
     "name": "stdout",
     "output_type": "stream",
     "text": [
      "Reading Training Transforms...\n",
      "64 training cameras\n",
      "0 test cameras\n",
      "uid= 0\n",
      "R= [[ 1. -0. -0.]\n",
      " [ 0. -1. -0.]\n",
      " [ 0. -0. -1.]]\n",
      "T= [ 16.804981 -16.804981  20.      ]\n",
      "FovX(deg)= 39.597755335771296\n",
      "FovY(deg)= 39.597755335771296\n",
      "image_name= 0000\n",
      "image size= (1600, 1600)\n",
      "---\n"
     ]
    }
   ],
   "source": [
    "# render\n",
    "device = torch.device(\"cuda:0\")\n",
    "\n",
    "means     = splats[\"means\"].to(device)\n",
    "quats     = splats[\"quats\"].to(device)\n",
    "scales    = splats[\"scales\"].to(device)\n",
    "opacities = splats[\"opacities\"].to(device)\n",
    "colors    = splats[\"colors\"].to(device)  # (N,16,3) など\n",
    "\n",
    "# viewmats  = torch.eye(4, device=device)[None, :, :]\n",
    "# Ks        = torch.tensor([\n",
    "#    [300., 0., 150.],\n",
    "#    [0., 300., 100.],\n",
    "#    [0.,   0.,   1.]], device=device)[None, :, :]\n",
    "\n",
    "# width, height = 300, 200\n",
    "\n",
    "\n",
    "import sys\n",
    "sys.path.append('..')  # Adjust the path as necessary to locate the 'mine' module\n",
    "from mine.read_transformers import readNerfSyntheticCameras, fov2focal\n",
    "from pathlib import Path\n",
    "\n",
    "nerf_dataset_path = os.path.abspath(os.path.join(\"..\", \"data\", \"transformers\"))\n",
    "\n",
    "train_cams, test_cams = readNerfSyntheticCameras(nerf_dataset_path, white_background=True, extension=\".png\", eval_mode=True)\n",
    "\n",
    "print(len(train_cams), \"training cameras\")\n",
    "print(len(test_cams), \"test cameras\")\n",
    "\n",
    "# 例: 取り出し\n",
    "for cam in train_cams[:1]:\n",
    "    print(\"uid=\", cam.uid)\n",
    "    print(\"R=\", cam.R)\n",
    "    print(\"T=\", cam.T)\n",
    "    print(\"FovX(deg)=\", np.degrees(cam.FovX))\n",
    "    print(\"FovY(deg)=\", np.degrees(cam.FovY))\n",
    "    print(\"image_name=\", cam.image_name)\n",
    "    print(\"image size=\", (cam.width, cam.height))\n",
    "    print(\"---\")\n"
   ]
  },
  {
   "cell_type": "code",
   "execution_count": 55,
   "metadata": {},
   "outputs": [
    {
     "name": "stdout",
     "output_type": "stream",
     "text": [
      "K =\n",
      " [[555.55554   0.      200.     ]\n",
      " [  0.      555.55554 200.     ]\n",
      " [  0.        0.        1.     ]]\n"
     ]
    }
   ],
   "source": [
    "# 0番目カメラを取り出す\n",
    "cam = train_cams[0]\n",
    "width, height = cam.width/4, cam.height/4\n",
    "\n",
    "# f_x, f_y を計算\n",
    "f_x = fov2focal(cam.FovX, width)   # 横幅に対する焦点距離\n",
    "f_y = fov2focal(cam.FovY, height)  # 縦幅に対する焦点距離\n",
    "\n",
    "# 光学中心 cx, cy (画像中心と仮定)\n",
    "cx = width  / 2.0\n",
    "cy = height / 2.0\n",
    "\n",
    "# Intrinsics 行列\n",
    "K = np.array([\n",
    "    [f_x,   0,   cx],\n",
    "    [  0, f_y,   cy],\n",
    "    [  0,   0,   1 ]\n",
    "], dtype=np.float32)\n",
    "\n",
    "print(\"K =\\n\", K)"
   ]
  },
  {
   "cell_type": "code",
   "execution_count": 56,
   "metadata": {},
   "outputs": [
    {
     "name": "stdout",
     "output_type": "stream",
     "text": [
      "W2C =\n",
      " [[  1.        -0.        -0.        16.804981]\n",
      " [  0.        -1.        -0.       -16.804981]\n",
      " [  0.        -0.        -1.        20.      ]\n",
      " [  0.         0.         0.         1.      ]]\n"
     ]
    }
   ],
   "source": [
    "# 4x4 のワールド→カメラ変換 (Extrinsic) を作る\n",
    "W2C = np.eye(4, dtype=np.float32)\n",
    "W2C[:3, :3] = cam.R  # cam.R はすでに転置済みの場合あり; それは readNerfSyntheticInfo の仕様\n",
    "W2C[:3,  3] = cam.T\n",
    "\n",
    "print(\"W2C =\\n\", W2C)\n",
    "\n",
    "# 内部パラメータ\n",
    "K_3x3 = K[:3, :3]  # 上で計算したintrinsics, 3x3部だけ使う\n",
    "\n",
    "# ライブラリに合った形に reshape/unsqueeze するなど\n",
    "viewmats = torch.from_numpy(W2C)[None, :, :].to(device)  # 1カメラ分の4x4行列をCUDAへ\n",
    "Ks       = torch.from_numpy(K_3x3)[None, :, :].to(device) # 1カメラ分の3x3行列をCUDAへ"
   ]
  },
  {
   "cell_type": "code",
   "execution_count": 59,
   "metadata": {},
   "outputs": [
    {
     "data": {
      "text/html": [
       "<pre style=\"white-space:pre;overflow-x:auto;line-height:normal;font-family:Menlo,'DejaVu Sans Mono',consolas,'Courier New',monospace\"></pre>\n"
      ],
      "text/plain": []
     },
     "metadata": {},
     "output_type": "display_data"
    },
    {
     "ename": "ImportError",
     "evalue": "/home/uno/.cache/torch_extensions/py310_cu118/gsplat_cuda/gsplat_cuda.so: cannot open shared object file: No such file or directory",
     "output_type": "error",
     "traceback": [
      "\u001b[0;31m---------------------------------------------------------------------------\u001b[0m",
      "\u001b[0;31mImportError\u001b[0m                               Traceback (most recent call last)",
      "File \u001b[0;32m~/projects/gsplat/venv/lib/python3.10/site-packages/gsplat/cuda/_backend.py:83\u001b[0m\n\u001b[1;32m     81\u001b[0m \u001b[38;5;28;01mtry\u001b[39;00m:\n\u001b[1;32m     82\u001b[0m     \u001b[38;5;66;03m# try to import the compiled module (via setup.py)\u001b[39;00m\n\u001b[0;32m---> 83\u001b[0m     \u001b[38;5;28;01mfrom\u001b[39;00m\u001b[38;5;250m \u001b[39m\u001b[38;5;21;01mgsplat\u001b[39;00m\u001b[38;5;250m \u001b[39m\u001b[38;5;28;01mimport\u001b[39;00m csrc \u001b[38;5;28;01mas\u001b[39;00m _C\n\u001b[1;32m     84\u001b[0m \u001b[38;5;28;01mexcept\u001b[39;00m \u001b[38;5;167;01mImportError\u001b[39;00m:\n\u001b[1;32m     85\u001b[0m     \u001b[38;5;66;03m# if failed, try with JIT compilation\u001b[39;00m\n",
      "\u001b[0;31mImportError\u001b[0m: cannot import name 'csrc' from 'gsplat' (/home/uno/projects/gsplat/venv/lib/python3.10/site-packages/gsplat/__init__.py)",
      "\nDuring handling of the above exception, another exception occurred:\n",
      "\u001b[0;31mImportError\u001b[0m                               Traceback (most recent call last)",
      "Cell \u001b[0;32mIn[59], line 1\u001b[0m\n\u001b[0;32m----> 1\u001b[0m rgb_image, alpha, metadata \u001b[38;5;241m=\u001b[39m \u001b[43mrasterization\u001b[49m\u001b[43m(\u001b[49m\n\u001b[1;32m      2\u001b[0m \u001b[43m    \u001b[49m\u001b[43mmeans\u001b[49m\u001b[43m,\u001b[49m\n\u001b[1;32m      3\u001b[0m \u001b[43m    \u001b[49m\u001b[43mquats\u001b[49m\u001b[43m,\u001b[49m\n\u001b[1;32m      4\u001b[0m \u001b[43m    \u001b[49m\u001b[43mscales\u001b[49m\u001b[43m,\u001b[49m\n\u001b[1;32m      5\u001b[0m \u001b[43m    \u001b[49m\u001b[43mopacities\u001b[49m\u001b[43m,\u001b[49m\n\u001b[1;32m      6\u001b[0m \u001b[43m    \u001b[49m\u001b[43mcolors\u001b[49m\u001b[43m,\u001b[49m\n\u001b[1;32m      7\u001b[0m \u001b[43m    \u001b[49m\u001b[43mviewmats\u001b[49m\u001b[43m,\u001b[49m\n\u001b[1;32m      8\u001b[0m \u001b[43m    \u001b[49m\u001b[43mKs\u001b[49m\u001b[43m,\u001b[49m\n\u001b[1;32m      9\u001b[0m \u001b[43m    \u001b[49m\u001b[43mwidth\u001b[49m\u001b[43m,\u001b[49m\n\u001b[1;32m     10\u001b[0m \u001b[43m    \u001b[49m\u001b[43mheight\u001b[49m\u001b[43m,\u001b[49m\n\u001b[1;32m     11\u001b[0m \u001b[43m    \u001b[49m\u001b[43msh_degree\u001b[49m\u001b[38;5;241;43m=\u001b[39;49m\u001b[38;5;241;43m3\u001b[39;49m\u001b[43m,\u001b[49m\n\u001b[1;32m     12\u001b[0m \u001b[43m)\u001b[49m\n",
      "File \u001b[0;32m~/projects/gsplat/venv/lib/python3.10/site-packages/gsplat/rendering.py:297\u001b[0m, in \u001b[0;36mrasterization\u001b[0;34m(means, quats, scales, opacities, colors, viewmats, Ks, width, height, near_plane, far_plane, radius_clip, eps2d, sh_degree, packed, tile_size, backgrounds, render_mode, sparse_grad, absgrad, rasterize_mode, channel_chunk, distributed, camera_model, covars)\u001b[0m\n\u001b[1;32m    294\u001b[0m     C \u001b[38;5;241m=\u001b[39m \u001b[38;5;28mlen\u001b[39m(viewmats)\n\u001b[1;32m    296\u001b[0m \u001b[38;5;66;03m# Project Gaussians to 2D. Directly pass in {quats, scales} is faster than precomputing covars.\u001b[39;00m\n\u001b[0;32m--> 297\u001b[0m proj_results \u001b[38;5;241m=\u001b[39m \u001b[43mfully_fused_projection\u001b[49m\u001b[43m(\u001b[49m\n\u001b[1;32m    298\u001b[0m \u001b[43m    \u001b[49m\u001b[43mmeans\u001b[49m\u001b[43m,\u001b[49m\n\u001b[1;32m    299\u001b[0m \u001b[43m    \u001b[49m\u001b[43mcovars\u001b[49m\u001b[43m,\u001b[49m\n\u001b[1;32m    300\u001b[0m \u001b[43m    \u001b[49m\u001b[43mquats\u001b[49m\u001b[43m,\u001b[49m\n\u001b[1;32m    301\u001b[0m \u001b[43m    \u001b[49m\u001b[43mscales\u001b[49m\u001b[43m,\u001b[49m\n\u001b[1;32m    302\u001b[0m \u001b[43m    \u001b[49m\u001b[43mviewmats\u001b[49m\u001b[43m,\u001b[49m\n\u001b[1;32m    303\u001b[0m \u001b[43m    \u001b[49m\u001b[43mKs\u001b[49m\u001b[43m,\u001b[49m\n\u001b[1;32m    304\u001b[0m \u001b[43m    \u001b[49m\u001b[43mwidth\u001b[49m\u001b[43m,\u001b[49m\n\u001b[1;32m    305\u001b[0m \u001b[43m    \u001b[49m\u001b[43mheight\u001b[49m\u001b[43m,\u001b[49m\n\u001b[1;32m    306\u001b[0m \u001b[43m    \u001b[49m\u001b[43meps2d\u001b[49m\u001b[38;5;241;43m=\u001b[39;49m\u001b[43meps2d\u001b[49m\u001b[43m,\u001b[49m\n\u001b[1;32m    307\u001b[0m \u001b[43m    \u001b[49m\u001b[43mpacked\u001b[49m\u001b[38;5;241;43m=\u001b[39;49m\u001b[43mpacked\u001b[49m\u001b[43m,\u001b[49m\n\u001b[1;32m    308\u001b[0m \u001b[43m    \u001b[49m\u001b[43mnear_plane\u001b[49m\u001b[38;5;241;43m=\u001b[39;49m\u001b[43mnear_plane\u001b[49m\u001b[43m,\u001b[49m\n\u001b[1;32m    309\u001b[0m \u001b[43m    \u001b[49m\u001b[43mfar_plane\u001b[49m\u001b[38;5;241;43m=\u001b[39;49m\u001b[43mfar_plane\u001b[49m\u001b[43m,\u001b[49m\n\u001b[1;32m    310\u001b[0m \u001b[43m    \u001b[49m\u001b[43mradius_clip\u001b[49m\u001b[38;5;241;43m=\u001b[39;49m\u001b[43mradius_clip\u001b[49m\u001b[43m,\u001b[49m\n\u001b[1;32m    311\u001b[0m \u001b[43m    \u001b[49m\u001b[43msparse_grad\u001b[49m\u001b[38;5;241;43m=\u001b[39;49m\u001b[43msparse_grad\u001b[49m\u001b[43m,\u001b[49m\n\u001b[1;32m    312\u001b[0m \u001b[43m    \u001b[49m\u001b[43mcalc_compensations\u001b[49m\u001b[38;5;241;43m=\u001b[39;49m\u001b[43m(\u001b[49m\u001b[43mrasterize_mode\u001b[49m\u001b[43m \u001b[49m\u001b[38;5;241;43m==\u001b[39;49m\u001b[43m \u001b[49m\u001b[38;5;124;43m\"\u001b[39;49m\u001b[38;5;124;43mantialiased\u001b[39;49m\u001b[38;5;124;43m\"\u001b[39;49m\u001b[43m)\u001b[49m\u001b[43m,\u001b[49m\n\u001b[1;32m    313\u001b[0m \u001b[43m    \u001b[49m\u001b[43mcamera_model\u001b[49m\u001b[38;5;241;43m=\u001b[39;49m\u001b[43mcamera_model\u001b[49m\u001b[43m,\u001b[49m\n\u001b[1;32m    314\u001b[0m \u001b[43m\u001b[49m\u001b[43m)\u001b[49m\n\u001b[1;32m    316\u001b[0m \u001b[38;5;28;01mif\u001b[39;00m packed:\n\u001b[1;32m    317\u001b[0m     \u001b[38;5;66;03m# The results are packed into shape [nnz, ...]. All elements are valid.\u001b[39;00m\n\u001b[1;32m    318\u001b[0m     (\n\u001b[1;32m    319\u001b[0m         camera_ids,\n\u001b[1;32m    320\u001b[0m         gaussian_ids,\n\u001b[0;32m   (...)\u001b[0m\n\u001b[1;32m    325\u001b[0m         compensations,\n\u001b[1;32m    326\u001b[0m     ) \u001b[38;5;241m=\u001b[39m proj_results\n",
      "File \u001b[0;32m~/projects/gsplat/venv/lib/python3.10/site-packages/gsplat/cuda/_wrapper.py:288\u001b[0m, in \u001b[0;36mfully_fused_projection\u001b[0;34m(means, covars, quats, scales, viewmats, Ks, width, height, eps2d, near_plane, far_plane, radius_clip, packed, sparse_grad, calc_compensations, camera_model)\u001b[0m\n\u001b[1;32m    286\u001b[0m Ks \u001b[38;5;241m=\u001b[39m Ks\u001b[38;5;241m.\u001b[39mcontiguous()\n\u001b[1;32m    287\u001b[0m \u001b[38;5;28;01mif\u001b[39;00m packed:\n\u001b[0;32m--> 288\u001b[0m     \u001b[38;5;28;01mreturn\u001b[39;00m \u001b[43m_FullyFusedProjectionPacked\u001b[49m\u001b[38;5;241;43m.\u001b[39;49m\u001b[43mapply\u001b[49m\u001b[43m(\u001b[49m\n\u001b[1;32m    289\u001b[0m \u001b[43m        \u001b[49m\u001b[43mmeans\u001b[49m\u001b[43m,\u001b[49m\n\u001b[1;32m    290\u001b[0m \u001b[43m        \u001b[49m\u001b[43mcovars\u001b[49m\u001b[43m,\u001b[49m\n\u001b[1;32m    291\u001b[0m \u001b[43m        \u001b[49m\u001b[43mquats\u001b[49m\u001b[43m,\u001b[49m\n\u001b[1;32m    292\u001b[0m \u001b[43m        \u001b[49m\u001b[43mscales\u001b[49m\u001b[43m,\u001b[49m\n\u001b[1;32m    293\u001b[0m \u001b[43m        \u001b[49m\u001b[43mviewmats\u001b[49m\u001b[43m,\u001b[49m\n\u001b[1;32m    294\u001b[0m \u001b[43m        \u001b[49m\u001b[43mKs\u001b[49m\u001b[43m,\u001b[49m\n\u001b[1;32m    295\u001b[0m \u001b[43m        \u001b[49m\u001b[43mwidth\u001b[49m\u001b[43m,\u001b[49m\n\u001b[1;32m    296\u001b[0m \u001b[43m        \u001b[49m\u001b[43mheight\u001b[49m\u001b[43m,\u001b[49m\n\u001b[1;32m    297\u001b[0m \u001b[43m        \u001b[49m\u001b[43meps2d\u001b[49m\u001b[43m,\u001b[49m\n\u001b[1;32m    298\u001b[0m \u001b[43m        \u001b[49m\u001b[43mnear_plane\u001b[49m\u001b[43m,\u001b[49m\n\u001b[1;32m    299\u001b[0m \u001b[43m        \u001b[49m\u001b[43mfar_plane\u001b[49m\u001b[43m,\u001b[49m\n\u001b[1;32m    300\u001b[0m \u001b[43m        \u001b[49m\u001b[43mradius_clip\u001b[49m\u001b[43m,\u001b[49m\n\u001b[1;32m    301\u001b[0m \u001b[43m        \u001b[49m\u001b[43msparse_grad\u001b[49m\u001b[43m,\u001b[49m\n\u001b[1;32m    302\u001b[0m \u001b[43m        \u001b[49m\u001b[43mcalc_compensations\u001b[49m\u001b[43m,\u001b[49m\n\u001b[1;32m    303\u001b[0m \u001b[43m        \u001b[49m\u001b[43mcamera_model\u001b[49m\u001b[43m,\u001b[49m\n\u001b[1;32m    304\u001b[0m \u001b[43m    \u001b[49m\u001b[43m)\u001b[49m\n\u001b[1;32m    305\u001b[0m \u001b[38;5;28;01melse\u001b[39;00m:\n\u001b[1;32m    306\u001b[0m     \u001b[38;5;28;01mreturn\u001b[39;00m _FullyFusedProjection\u001b[38;5;241m.\u001b[39mapply(\n\u001b[1;32m    307\u001b[0m         means,\n\u001b[1;32m    308\u001b[0m         covars,\n\u001b[0;32m   (...)\u001b[0m\n\u001b[1;32m    320\u001b[0m         camera_model,\n\u001b[1;32m    321\u001b[0m     )\n",
      "File \u001b[0;32m~/projects/gsplat/venv/lib/python3.10/site-packages/torch/autograd/function.py:539\u001b[0m, in \u001b[0;36mFunction.apply\u001b[0;34m(cls, *args, **kwargs)\u001b[0m\n\u001b[1;32m    536\u001b[0m \u001b[38;5;28;01mif\u001b[39;00m \u001b[38;5;129;01mnot\u001b[39;00m torch\u001b[38;5;241m.\u001b[39m_C\u001b[38;5;241m.\u001b[39m_are_functorch_transforms_active():\n\u001b[1;32m    537\u001b[0m     \u001b[38;5;66;03m# See NOTE: [functorch vjp and autograd interaction]\u001b[39;00m\n\u001b[1;32m    538\u001b[0m     args \u001b[38;5;241m=\u001b[39m _functorch\u001b[38;5;241m.\u001b[39mutils\u001b[38;5;241m.\u001b[39munwrap_dead_wrappers(args)\n\u001b[0;32m--> 539\u001b[0m     \u001b[38;5;28;01mreturn\u001b[39;00m \u001b[38;5;28;43msuper\u001b[39;49m\u001b[43m(\u001b[49m\u001b[43m)\u001b[49m\u001b[38;5;241;43m.\u001b[39;49m\u001b[43mapply\u001b[49m\u001b[43m(\u001b[49m\u001b[38;5;241;43m*\u001b[39;49m\u001b[43margs\u001b[49m\u001b[43m,\u001b[49m\u001b[43m \u001b[49m\u001b[38;5;241;43m*\u001b[39;49m\u001b[38;5;241;43m*\u001b[39;49m\u001b[43mkwargs\u001b[49m\u001b[43m)\u001b[49m  \u001b[38;5;66;03m# type: ignore[misc]\u001b[39;00m\n\u001b[1;32m    541\u001b[0m \u001b[38;5;28;01mif\u001b[39;00m \u001b[38;5;28mcls\u001b[39m\u001b[38;5;241m.\u001b[39msetup_context \u001b[38;5;241m==\u001b[39m _SingleLevelFunction\u001b[38;5;241m.\u001b[39msetup_context:\n\u001b[1;32m    542\u001b[0m     \u001b[38;5;28;01mraise\u001b[39;00m \u001b[38;5;167;01mRuntimeError\u001b[39;00m(\n\u001b[1;32m    543\u001b[0m         \u001b[38;5;124m\"\u001b[39m\u001b[38;5;124mIn order to use an autograd.Function with functorch transforms \u001b[39m\u001b[38;5;124m\"\u001b[39m\n\u001b[1;32m    544\u001b[0m         \u001b[38;5;124m\"\u001b[39m\u001b[38;5;124m(vmap, grad, jvp, jacrev, ...), it must override the setup_context \u001b[39m\u001b[38;5;124m\"\u001b[39m\n\u001b[1;32m    545\u001b[0m         \u001b[38;5;124m\"\u001b[39m\u001b[38;5;124mstaticmethod. For more details, please see \u001b[39m\u001b[38;5;124m\"\u001b[39m\n\u001b[1;32m    546\u001b[0m         \u001b[38;5;124m\"\u001b[39m\u001b[38;5;124mhttps://pytorch.org/docs/master/notes/extending.func.html\u001b[39m\u001b[38;5;124m\"\u001b[39m\n\u001b[1;32m    547\u001b[0m     )\n",
      "File \u001b[0;32m~/projects/gsplat/venv/lib/python3.10/site-packages/gsplat/cuda/_wrapper.py:1035\u001b[0m, in \u001b[0;36m_FullyFusedProjectionPacked.forward\u001b[0;34m(ctx, means, covars, quats, scales, viewmats, Ks, width, height, eps2d, near_plane, far_plane, radius_clip, sparse_grad, calc_compensations, camera_model)\u001b[0m\n\u001b[1;32m   1016\u001b[0m \u001b[38;5;129m@staticmethod\u001b[39m\n\u001b[1;32m   1017\u001b[0m \u001b[38;5;28;01mdef\u001b[39;00m\u001b[38;5;250m \u001b[39m\u001b[38;5;21mforward\u001b[39m(\n\u001b[1;32m   1018\u001b[0m     ctx,\n\u001b[0;32m   (...)\u001b[0m\n\u001b[1;32m   1033\u001b[0m     camera_model: Literal[\u001b[38;5;124m\"\u001b[39m\u001b[38;5;124mpinhole\u001b[39m\u001b[38;5;124m\"\u001b[39m, \u001b[38;5;124m\"\u001b[39m\u001b[38;5;124mortho\u001b[39m\u001b[38;5;124m\"\u001b[39m, \u001b[38;5;124m\"\u001b[39m\u001b[38;5;124mfisheye\u001b[39m\u001b[38;5;124m\"\u001b[39m] \u001b[38;5;241m=\u001b[39m \u001b[38;5;124m\"\u001b[39m\u001b[38;5;124mpinhole\u001b[39m\u001b[38;5;124m\"\u001b[39m,\n\u001b[1;32m   1034\u001b[0m ) \u001b[38;5;241m-\u001b[39m\u001b[38;5;241m>\u001b[39m Tuple[Tensor, Tensor, Tensor, Tensor]:\n\u001b[0;32m-> 1035\u001b[0m     camera_model_type \u001b[38;5;241m=\u001b[39m \u001b[43m_make_lazy_cuda_obj\u001b[49m\u001b[43m(\u001b[49m\n\u001b[1;32m   1036\u001b[0m \u001b[43m        \u001b[49m\u001b[38;5;124;43mf\u001b[39;49m\u001b[38;5;124;43m\"\u001b[39;49m\u001b[38;5;124;43mCameraModelType.\u001b[39;49m\u001b[38;5;132;43;01m{\u001b[39;49;00m\u001b[43mcamera_model\u001b[49m\u001b[38;5;241;43m.\u001b[39;49m\u001b[43mupper\u001b[49m\u001b[43m(\u001b[49m\u001b[43m)\u001b[49m\u001b[38;5;132;43;01m}\u001b[39;49;00m\u001b[38;5;124;43m\"\u001b[39;49m\n\u001b[1;32m   1037\u001b[0m \u001b[43m    \u001b[49m\u001b[43m)\u001b[49m\n\u001b[1;32m   1039\u001b[0m     (\n\u001b[1;32m   1040\u001b[0m         indptr,\n\u001b[1;32m   1041\u001b[0m         camera_ids,\n\u001b[0;32m   (...)\u001b[0m\n\u001b[1;32m   1062\u001b[0m         camera_model_type,\n\u001b[1;32m   1063\u001b[0m     )\n\u001b[1;32m   1064\u001b[0m     \u001b[38;5;28;01mif\u001b[39;00m \u001b[38;5;129;01mnot\u001b[39;00m calc_compensations:\n",
      "File \u001b[0;32m~/projects/gsplat/venv/lib/python3.10/site-packages/gsplat/cuda/_wrapper.py:21\u001b[0m, in \u001b[0;36m_make_lazy_cuda_obj\u001b[0;34m(name)\u001b[0m\n\u001b[1;32m     19\u001b[0m \u001b[38;5;28;01mdef\u001b[39;00m\u001b[38;5;250m \u001b[39m\u001b[38;5;21m_make_lazy_cuda_obj\u001b[39m(name: \u001b[38;5;28mstr\u001b[39m) \u001b[38;5;241m-\u001b[39m\u001b[38;5;241m>\u001b[39m Any:\n\u001b[1;32m     20\u001b[0m     \u001b[38;5;66;03m# pylint: disable=import-outside-toplevel\u001b[39;00m\n\u001b[0;32m---> 21\u001b[0m     \u001b[38;5;28;01mfrom\u001b[39;00m\u001b[38;5;250m \u001b[39m\u001b[38;5;21;01m.\u001b[39;00m\u001b[38;5;21;01m_backend\u001b[39;00m\u001b[38;5;250m \u001b[39m\u001b[38;5;28;01mimport\u001b[39;00m _C\n\u001b[1;32m     23\u001b[0m     obj \u001b[38;5;241m=\u001b[39m _C\n\u001b[1;32m     24\u001b[0m     \u001b[38;5;28;01mfor\u001b[39;00m name_split \u001b[38;5;129;01min\u001b[39;00m name\u001b[38;5;241m.\u001b[39msplit(\u001b[38;5;124m\"\u001b[39m\u001b[38;5;124m.\u001b[39m\u001b[38;5;124m\"\u001b[39m):\n",
      "File \u001b[0;32m~/projects/gsplat/venv/lib/python3.10/site-packages/gsplat/cuda/_backend.py:130\u001b[0m\n\u001b[1;32m    125\u001b[0m         shutil\u001b[38;5;241m.\u001b[39mrmtree(build_dir)\n\u001b[1;32m    126\u001b[0m         \u001b[38;5;28;01mwith\u001b[39;00m Console()\u001b[38;5;241m.\u001b[39mstatus(\n\u001b[1;32m    127\u001b[0m             \u001b[38;5;124mf\u001b[39m\u001b[38;5;124m\"\u001b[39m\u001b[38;5;124m[bold yellow]gsplat: Setting up CUDA with MAX_JOBS=\u001b[39m\u001b[38;5;132;01m{\u001b[39;00mos\u001b[38;5;241m.\u001b[39menviron[\u001b[38;5;124m'\u001b[39m\u001b[38;5;124mMAX_JOBS\u001b[39m\u001b[38;5;124m'\u001b[39m]\u001b[38;5;132;01m}\u001b[39;00m\u001b[38;5;124m (This may take a few minutes the first time)\u001b[39m\u001b[38;5;124m\"\u001b[39m,\n\u001b[1;32m    128\u001b[0m             spinner\u001b[38;5;241m=\u001b[39m\u001b[38;5;124m\"\u001b[39m\u001b[38;5;124mbouncingBall\u001b[39m\u001b[38;5;124m\"\u001b[39m,\n\u001b[1;32m    129\u001b[0m         ):\n\u001b[0;32m--> 130\u001b[0m             _C \u001b[38;5;241m=\u001b[39m \u001b[43mload_extension\u001b[49m\u001b[43m(\u001b[49m\n\u001b[1;32m    131\u001b[0m \u001b[43m                \u001b[49m\u001b[43mname\u001b[49m\u001b[38;5;241;43m=\u001b[39;49m\u001b[43mname\u001b[49m\u001b[43m,\u001b[49m\n\u001b[1;32m    132\u001b[0m \u001b[43m                \u001b[49m\u001b[43msources\u001b[49m\u001b[38;5;241;43m=\u001b[39;49m\u001b[43msources\u001b[49m\u001b[43m,\u001b[49m\n\u001b[1;32m    133\u001b[0m \u001b[43m                \u001b[49m\u001b[43mextra_cflags\u001b[49m\u001b[38;5;241;43m=\u001b[39;49m\u001b[43mextra_cflags\u001b[49m\u001b[43m,\u001b[49m\n\u001b[1;32m    134\u001b[0m \u001b[43m                \u001b[49m\u001b[43mextra_cuda_cflags\u001b[49m\u001b[38;5;241;43m=\u001b[39;49m\u001b[43mextra_cuda_cflags\u001b[49m\u001b[43m,\u001b[49m\n\u001b[1;32m    135\u001b[0m \u001b[43m                \u001b[49m\u001b[43mextra_include_paths\u001b[49m\u001b[38;5;241;43m=\u001b[39;49m\u001b[43mextra_include_paths\u001b[49m\u001b[43m,\u001b[49m\n\u001b[1;32m    136\u001b[0m \u001b[43m                \u001b[49m\u001b[43mbuild_directory\u001b[49m\u001b[38;5;241;43m=\u001b[39;49m\u001b[43mbuild_dir\u001b[49m\u001b[43m,\u001b[49m\n\u001b[1;32m    137\u001b[0m \u001b[43m            \u001b[49m\u001b[43m)\u001b[49m\n\u001b[1;32m    139\u001b[0m \u001b[38;5;28;01melse\u001b[39;00m:\n\u001b[1;32m    140\u001b[0m     Console()\u001b[38;5;241m.\u001b[39mprint(\n\u001b[1;32m    141\u001b[0m         \u001b[38;5;124m\"\u001b[39m\u001b[38;5;124m[yellow]gsplat: No CUDA toolkit found. gsplat will be disabled.[/yellow]\u001b[39m\u001b[38;5;124m\"\u001b[39m\n\u001b[1;32m    142\u001b[0m     )\n",
      "File \u001b[0;32m~/projects/gsplat/venv/lib/python3.10/site-packages/gsplat/cuda/_backend.py:42\u001b[0m, in \u001b[0;36mload_extension\u001b[0;34m(name, sources, extra_cflags, extra_cuda_cflags, extra_ldflags, extra_include_paths, build_directory)\u001b[0m\n\u001b[1;32m     37\u001b[0m \u001b[38;5;66;03m# If the JIT build happens concurrently in multiple processes,\u001b[39;00m\n\u001b[1;32m     38\u001b[0m \u001b[38;5;66;03m# race conditions can occur when removing the lock file at:\u001b[39;00m\n\u001b[1;32m     39\u001b[0m \u001b[38;5;66;03m# https://github.com/pytorch/pytorch/blob/e3513fb2af7951ddf725d8c5b6f6d962a053c9da/torch/utils/cpp_extension.py#L1736\u001b[39;00m\n\u001b[1;32m     40\u001b[0m \u001b[38;5;66;03m# But it's ok so we catch this exception and ignore it.\u001b[39;00m\n\u001b[1;32m     41\u001b[0m \u001b[38;5;28;01mtry\u001b[39;00m:\n\u001b[0;32m---> 42\u001b[0m     \u001b[38;5;28;01mreturn\u001b[39;00m \u001b[43mload\u001b[49m\u001b[43m(\u001b[49m\n\u001b[1;32m     43\u001b[0m \u001b[43m        \u001b[49m\u001b[43mname\u001b[49m\u001b[43m,\u001b[49m\n\u001b[1;32m     44\u001b[0m \u001b[43m        \u001b[49m\u001b[43msources\u001b[49m\u001b[43m,\u001b[49m\n\u001b[1;32m     45\u001b[0m \u001b[43m        \u001b[49m\u001b[43mextra_cflags\u001b[49m\u001b[38;5;241;43m=\u001b[39;49m\u001b[43mextra_cflags\u001b[49m\u001b[43m,\u001b[49m\n\u001b[1;32m     46\u001b[0m \u001b[43m        \u001b[49m\u001b[43mextra_cuda_cflags\u001b[49m\u001b[38;5;241;43m=\u001b[39;49m\u001b[43mextra_cuda_cflags\u001b[49m\u001b[43m,\u001b[49m\n\u001b[1;32m     47\u001b[0m \u001b[43m        \u001b[49m\u001b[43mextra_ldflags\u001b[49m\u001b[38;5;241;43m=\u001b[39;49m\u001b[43mextra_ldflags\u001b[49m\u001b[43m,\u001b[49m\n\u001b[1;32m     48\u001b[0m \u001b[43m        \u001b[49m\u001b[43mextra_include_paths\u001b[49m\u001b[38;5;241;43m=\u001b[39;49m\u001b[43mextra_include_paths\u001b[49m\u001b[43m,\u001b[49m\n\u001b[1;32m     49\u001b[0m \u001b[43m        \u001b[49m\u001b[43mbuild_directory\u001b[49m\u001b[38;5;241;43m=\u001b[39;49m\u001b[43mbuild_directory\u001b[49m\u001b[43m,\u001b[49m\n\u001b[1;32m     50\u001b[0m \u001b[43m    \u001b[49m\u001b[43m)\u001b[49m\n\u001b[1;32m     51\u001b[0m \u001b[38;5;28;01mexcept\u001b[39;00m \u001b[38;5;167;01mOSError\u001b[39;00m:\n\u001b[1;32m     52\u001b[0m     \u001b[38;5;66;03m# The module should be already compiled\u001b[39;00m\n\u001b[1;32m     53\u001b[0m     \u001b[38;5;28;01mreturn\u001b[39;00m _import_module_from_library(name, build_directory, \u001b[38;5;28;01mTrue\u001b[39;00m)\n",
      "File \u001b[0;32m~/projects/gsplat/venv/lib/python3.10/site-packages/torch/utils/cpp_extension.py:1308\u001b[0m, in \u001b[0;36mload\u001b[0;34m(name, sources, extra_cflags, extra_cuda_cflags, extra_ldflags, extra_include_paths, build_directory, verbose, with_cuda, is_python_module, is_standalone, keep_intermediates)\u001b[0m\n\u001b[1;32m   1216\u001b[0m \u001b[38;5;28;01mdef\u001b[39;00m\u001b[38;5;250m \u001b[39m\u001b[38;5;21mload\u001b[39m(name,\n\u001b[1;32m   1217\u001b[0m          sources: Union[\u001b[38;5;28mstr\u001b[39m, List[\u001b[38;5;28mstr\u001b[39m]],\n\u001b[1;32m   1218\u001b[0m          extra_cflags\u001b[38;5;241m=\u001b[39m\u001b[38;5;28;01mNone\u001b[39;00m,\n\u001b[0;32m   (...)\u001b[0m\n\u001b[1;32m   1226\u001b[0m          is_standalone\u001b[38;5;241m=\u001b[39m\u001b[38;5;28;01mFalse\u001b[39;00m,\n\u001b[1;32m   1227\u001b[0m          keep_intermediates\u001b[38;5;241m=\u001b[39m\u001b[38;5;28;01mTrue\u001b[39;00m):\n\u001b[1;32m   1228\u001b[0m \u001b[38;5;250m    \u001b[39m\u001b[38;5;124mr\u001b[39m\u001b[38;5;124;03m'''\u001b[39;00m\n\u001b[1;32m   1229\u001b[0m \u001b[38;5;124;03m    Loads a PyTorch C++ extension just-in-time (JIT).\u001b[39;00m\n\u001b[1;32m   1230\u001b[0m \n\u001b[0;32m   (...)\u001b[0m\n\u001b[1;32m   1306\u001b[0m \u001b[38;5;124;03m        ...     verbose=True)\u001b[39;00m\n\u001b[1;32m   1307\u001b[0m \u001b[38;5;124;03m    '''\u001b[39;00m\n\u001b[0;32m-> 1308\u001b[0m     \u001b[38;5;28;01mreturn\u001b[39;00m \u001b[43m_jit_compile\u001b[49m\u001b[43m(\u001b[49m\n\u001b[1;32m   1309\u001b[0m \u001b[43m        \u001b[49m\u001b[43mname\u001b[49m\u001b[43m,\u001b[49m\n\u001b[1;32m   1310\u001b[0m \u001b[43m        \u001b[49m\u001b[43m[\u001b[49m\u001b[43msources\u001b[49m\u001b[43m]\u001b[49m\u001b[43m \u001b[49m\u001b[38;5;28;43;01mif\u001b[39;49;00m\u001b[43m \u001b[49m\u001b[38;5;28;43misinstance\u001b[39;49m\u001b[43m(\u001b[49m\u001b[43msources\u001b[49m\u001b[43m,\u001b[49m\u001b[43m \u001b[49m\u001b[38;5;28;43mstr\u001b[39;49m\u001b[43m)\u001b[49m\u001b[43m \u001b[49m\u001b[38;5;28;43;01melse\u001b[39;49;00m\u001b[43m \u001b[49m\u001b[43msources\u001b[49m\u001b[43m,\u001b[49m\n\u001b[1;32m   1311\u001b[0m \u001b[43m        \u001b[49m\u001b[43mextra_cflags\u001b[49m\u001b[43m,\u001b[49m\n\u001b[1;32m   1312\u001b[0m \u001b[43m        \u001b[49m\u001b[43mextra_cuda_cflags\u001b[49m\u001b[43m,\u001b[49m\n\u001b[1;32m   1313\u001b[0m \u001b[43m        \u001b[49m\u001b[43mextra_ldflags\u001b[49m\u001b[43m,\u001b[49m\n\u001b[1;32m   1314\u001b[0m \u001b[43m        \u001b[49m\u001b[43mextra_include_paths\u001b[49m\u001b[43m,\u001b[49m\n\u001b[1;32m   1315\u001b[0m \u001b[43m        \u001b[49m\u001b[43mbuild_directory\u001b[49m\u001b[43m \u001b[49m\u001b[38;5;129;43;01mor\u001b[39;49;00m\u001b[43m \u001b[49m\u001b[43m_get_build_directory\u001b[49m\u001b[43m(\u001b[49m\u001b[43mname\u001b[49m\u001b[43m,\u001b[49m\u001b[43m \u001b[49m\u001b[43mverbose\u001b[49m\u001b[43m)\u001b[49m\u001b[43m,\u001b[49m\n\u001b[1;32m   1316\u001b[0m \u001b[43m        \u001b[49m\u001b[43mverbose\u001b[49m\u001b[43m,\u001b[49m\n\u001b[1;32m   1317\u001b[0m \u001b[43m        \u001b[49m\u001b[43mwith_cuda\u001b[49m\u001b[43m,\u001b[49m\n\u001b[1;32m   1318\u001b[0m \u001b[43m        \u001b[49m\u001b[43mis_python_module\u001b[49m\u001b[43m,\u001b[49m\n\u001b[1;32m   1319\u001b[0m \u001b[43m        \u001b[49m\u001b[43mis_standalone\u001b[49m\u001b[43m,\u001b[49m\n\u001b[1;32m   1320\u001b[0m \u001b[43m        \u001b[49m\u001b[43mkeep_intermediates\u001b[49m\u001b[38;5;241;43m=\u001b[39;49m\u001b[43mkeep_intermediates\u001b[49m\u001b[43m)\u001b[49m\n",
      "File \u001b[0;32m~/projects/gsplat/venv/lib/python3.10/site-packages/torch/utils/cpp_extension.py:1736\u001b[0m, in \u001b[0;36m_jit_compile\u001b[0;34m(name, sources, extra_cflags, extra_cuda_cflags, extra_ldflags, extra_include_paths, build_directory, verbose, with_cuda, is_python_module, is_standalone, keep_intermediates)\u001b[0m\n\u001b[1;32m   1733\u001b[0m \u001b[38;5;28;01mif\u001b[39;00m is_standalone:\n\u001b[1;32m   1734\u001b[0m     \u001b[38;5;28;01mreturn\u001b[39;00m _get_exec_path(name, build_directory)\n\u001b[0;32m-> 1736\u001b[0m \u001b[38;5;28;01mreturn\u001b[39;00m \u001b[43m_import_module_from_library\u001b[49m\u001b[43m(\u001b[49m\u001b[43mname\u001b[49m\u001b[43m,\u001b[49m\u001b[43m \u001b[49m\u001b[43mbuild_directory\u001b[49m\u001b[43m,\u001b[49m\u001b[43m \u001b[49m\u001b[43mis_python_module\u001b[49m\u001b[43m)\u001b[49m\n",
      "File \u001b[0;32m~/projects/gsplat/venv/lib/python3.10/site-packages/torch/utils/cpp_extension.py:2136\u001b[0m, in \u001b[0;36m_import_module_from_library\u001b[0;34m(module_name, path, is_python_module)\u001b[0m\n\u001b[1;32m   2134\u001b[0m spec \u001b[38;5;241m=\u001b[39m importlib\u001b[38;5;241m.\u001b[39mutil\u001b[38;5;241m.\u001b[39mspec_from_file_location(module_name, filepath)\n\u001b[1;32m   2135\u001b[0m \u001b[38;5;28;01massert\u001b[39;00m spec \u001b[38;5;129;01mis\u001b[39;00m \u001b[38;5;129;01mnot\u001b[39;00m \u001b[38;5;28;01mNone\u001b[39;00m\n\u001b[0;32m-> 2136\u001b[0m module \u001b[38;5;241m=\u001b[39m \u001b[43mimportlib\u001b[49m\u001b[38;5;241;43m.\u001b[39;49m\u001b[43mutil\u001b[49m\u001b[38;5;241;43m.\u001b[39;49m\u001b[43mmodule_from_spec\u001b[49m\u001b[43m(\u001b[49m\u001b[43mspec\u001b[49m\u001b[43m)\u001b[49m\n\u001b[1;32m   2137\u001b[0m \u001b[38;5;28;01massert\u001b[39;00m \u001b[38;5;28misinstance\u001b[39m(spec\u001b[38;5;241m.\u001b[39mloader, importlib\u001b[38;5;241m.\u001b[39mabc\u001b[38;5;241m.\u001b[39mLoader)\n\u001b[1;32m   2138\u001b[0m spec\u001b[38;5;241m.\u001b[39mloader\u001b[38;5;241m.\u001b[39mexec_module(module)\n",
      "\u001b[0;31mImportError\u001b[0m: /home/uno/.cache/torch_extensions/py310_cu118/gsplat_cuda/gsplat_cuda.so: cannot open shared object file: No such file or directory"
     ]
    }
   ],
   "source": [
    "rgb_image, alpha, metadata = rasterization(\n",
    "    means,\n",
    "    quats,\n",
    "    scales,\n",
    "    opacities,\n",
    "    colors,\n",
    "    viewmats,\n",
    "    Ks,\n",
    "    width,\n",
    "    height,\n",
    "    sh_degree=3,\n",
    ")"
   ]
  },
  {
   "cell_type": "code",
   "execution_count": null,
   "metadata": {},
   "outputs": [
    {
     "data": {
      "text/plain": [
       "(-0.5, 299.5, 199.5, -0.5)"
      ]
     },
     "execution_count": 32,
     "metadata": {},
     "output_type": "execute_result"
    },
    {
     "data": {
      "image/png": "[encoded data removed]",
      "text/plain": [
       "<Figure size 1500x1200 with 1 Axes>"
      ]
     },
     "metadata": {},
     "output_type": "display_data"
    }
   ],
   "source": [
    "# Display the rendered image.\n",
    "plt.imshow(rgb_image.squeeze().cpu().detach().numpy())\n",
    "plt.axis(\"off\")\n"
   ]
  }
 ],
 "metadata": {
  "kernelspec": {
   "display_name": "venv",
   "language": "python",
   "name": "python3"
  },
  "language_info": {
   "codemirror_mode": {
    "name": "ipython",
    "version": 3
   },
   "file_extension": ".py",
   "mimetype": "text/x-python",
   "name": "python",
   "nbconvert_exporter": "python",
   "pygments_lexer": "ipython3",
   "version": "3.10.12"
  }
 },
 "nbformat": 4,
 "nbformat_minor": 2
}
